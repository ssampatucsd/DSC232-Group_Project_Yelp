{
 "cells": [
  {
   "cell_type": "markdown",
   "id": "e664348a-2b6b-4a91-93f3-70d243edcff7",
   "metadata": {},
   "source": [
    "# Final Submission: Yelp Reviews"
   ]
  },
  {
   "cell_type": "code",
   "execution_count": 1,
   "id": "99cda430-cf33-43f8-bb17-8f60c892ce20",
   "metadata": {},
   "outputs": [
    {
     "name": "stderr",
     "output_type": "stream",
     "text": [
      "Matplotlib created a temporary cache directory at /tmp/matplotlib-0gigg14f because the default path (/home/jovyan/.cache/matplotlib) is not a writable directory; it is highly recommended to set the MPLCONFIGDIR environment variable to a writable directory, in particular to speed up the import of Matplotlib and to better support multiprocessing.\n",
      "/usr/local/spark/python/pyspark/pandas/__init__.py:50: UserWarning: 'PYARROW_IGNORE_TIMEZONE' environment variable was not set. It is required to set this environment variable to '1' in both driver and executor sides if you use pyarrow>=2.0.0. pandas-on-Spark will set it for you but it does not work if there is a Spark context already launched.\n",
      "  warnings.warn(\n"
     ]
    }
   ],
   "source": [
    "import os\n",
    "import matplotlib.pyplot as plt\n",
    "import seaborn as sns\n",
    "import pandas as pd\n",
    "import pyspark.pandas as ps"
   ]
  },
  {
   "cell_type": "code",
   "execution_count": 2,
   "id": "0fcf7488-9257-4d41-9513-f01ec94739ab",
   "metadata": {},
   "outputs": [
    {
     "name": "stdout",
     "output_type": "stream",
     "text": [
      "\u001b[33mWARNING: The directory '/home/jovyan/.cache/pip' or its parent directory is not owned or is not writable by the current user. The cache has been disabled. Check the permissions and owner of that directory. If executing pip with sudo, you should use sudo's -H flag.\u001b[0m\u001b[33m\n",
      "\u001b[0mDefaulting to user installation because normal site-packages is not writeable\n",
      "Requirement already satisfied: plotly in /home/ssampat/.local/lib/python3.11/site-packages (5.22.0)\n",
      "Requirement already satisfied: tenacity>=6.2.0 in /home/ssampat/.local/lib/python3.11/site-packages (from plotly) (8.3.0)\n",
      "Requirement already satisfied: packaging in /opt/conda/lib/python3.11/site-packages (from plotly) (23.2)\n"
     ]
    }
   ],
   "source": [
    "import sys\n",
    "import site\n",
    "sys.path.append(site.getusersitepackages())\n",
    "!{sys.executable} -m pip install plotly --upgrade"
   ]
  },
  {
   "cell_type": "code",
   "execution_count": 3,
   "id": "79955556-9f6a-414c-a582-14bc9db86f52",
   "metadata": {},
   "outputs": [],
   "source": [
    "from pyspark.sql import SparkSession\n",
    "spark = SparkSession.builder \\\n",
    "    .appName(\"Yelp Data Analysis\") \\\n",
    "    .config(\"spark.driver.memory\", \"16g\") \\\n",
    "    .config(\"spark.executor.memory\", \"8g\") \\\n",
    "    .config(\"spark.executor.instances\", \"8\") \\\n",
    "    .config(\"spark.executor.cores\", \"4\") \\\n",
    "    .config(\"spark.executor.memoryOverhead\", \"4g\") \\\n",
    "    .config(\"spark.driver.memoryOverhead\", \"4g\") \\\n",
    "    .config(\"spark.sql.shuffle.partitions\", \"800\") \\\n",
    "    .getOrCreate()"
   ]
  },
  {
   "cell_type": "code",
   "execution_count": 4,
   "id": "c40c381b-091b-45c8-bb9f-bde63410f877",
   "metadata": {},
   "outputs": [],
   "source": [
    "review_df = spark.read.json('yelp_academic_dataset_review.json')"
   ]
  },
  {
   "cell_type": "markdown",
   "id": "63e54760-4d96-44bc-bcbf-93c72de51d90",
   "metadata": {
    "scrolled": true
   },
   "source": [
    "## Data Cleaning and Preprocessing"
   ]
  },
  {
   "cell_type": "markdown",
   "id": "28459a7a-e133-4279-90ee-9e8d60762c17",
   "metadata": {},
   "source": [
    "### Select features"
   ]
  },
  {
   "cell_type": "code",
   "execution_count": 5,
   "id": "36a37557-6ab0-4e46-a62c-e8227610d9a6",
   "metadata": {},
   "outputs": [
    {
     "name": "stdout",
     "output_type": "stream",
     "text": [
      "Total Count: 187030\n",
      "+--------------------+-----+\n",
      "|                text|stars|\n",
      "+--------------------+-----+\n",
      "|If you decide to ...|  3.0|\n",
      "|I've taken a lot ...|  5.0|\n",
      "|Family diner. Had...|  3.0|\n",
      "|Wow!  Yummy, diff...|  5.0|\n",
      "|Cute interior and...|  4.0|\n",
      "+--------------------+-----+\n",
      "only showing top 5 rows\n",
      "\n"
     ]
    }
   ],
   "source": [
    "review_df = review_df.select('text','stars')\n",
    "print('Total Count: ' + str(review_df.count()))\n",
    "review_df.show(5)"
   ]
  },
  {
   "cell_type": "markdown",
   "id": "fbd5a764-8717-4e16-baf4-a341ad30c632",
   "metadata": {},
   "source": [
    "### Remove Missing Values"
   ]
  },
  {
   "cell_type": "code",
   "execution_count": 6,
   "id": "1c6b5d4d-28e7-4a6b-a87f-a0da1d036549",
   "metadata": {},
   "outputs": [
    {
     "data": {
      "text/plain": [
       "187029"
      ]
     },
     "execution_count": 6,
     "metadata": {},
     "output_type": "execute_result"
    }
   ],
   "source": [
    "#dropping rows with any null values\n",
    "review_df = review_df.dropna()\n",
    "review_df.count()"
   ]
  },
  {
   "cell_type": "markdown",
   "id": "1aca83fd-96c5-43e4-a197-442b09057cfd",
   "metadata": {},
   "source": [
    "### Add feature: 'review_length'"
   ]
  },
  {
   "cell_type": "code",
   "execution_count": 7,
   "id": "39785d47-d666-4cda-ad74-983e4a414ea3",
   "metadata": {},
   "outputs": [
    {
     "name": "stdout",
     "output_type": "stream",
     "text": [
      "+--------------------+-----+-------------+\n",
      "|                text|stars|review_length|\n",
      "+--------------------+-----+-------------+\n",
      "|If you decide to ...|  3.0|          513|\n",
      "|I've taken a lot ...|  5.0|          829|\n",
      "|Family diner. Had...|  3.0|          339|\n",
      "|Wow!  Yummy, diff...|  5.0|          243|\n",
      "|Cute interior and...|  4.0|          534|\n",
      "+--------------------+-----+-------------+\n",
      "only showing top 5 rows\n",
      "\n"
     ]
    }
   ],
   "source": [
    "from pyspark.sql.functions import col, count, when, length\n",
    "\n",
    "review_df = review_df.withColumn('review_length', length('text'))\n",
    "review_df.show(5)"
   ]
  },
  {
   "cell_type": "markdown",
   "id": "37ede3af-d81f-4a1e-a1f4-84c27bf2e07a",
   "metadata": {},
   "source": [
    "### Tokenization and Stop Words Removal"
   ]
  },
  {
   "cell_type": "code",
   "execution_count": 8,
   "id": "c4821c19-c178-4263-82d7-f818e19484ee",
   "metadata": {},
   "outputs": [
    {
     "name": "stdout",
     "output_type": "stream",
     "text": [
      "+--------------------+-----+-------------+--------------------+--------------------+\n",
      "|                text|stars|review_length|               words|      filtered_words|\n",
      "+--------------------+-----+-------------+--------------------+--------------------+\n",
      "|If you decide to ...|  3.0|          513|[if, you, decide,...|[decide, eat, her...|\n",
      "|I've taken a lot ...|  5.0|          829|[i've, taken, a, ...|[taken, lot, spin...|\n",
      "|Family diner. Had...|  3.0|          339|[family, diner., ...|[family, diner., ...|\n",
      "|Wow!  Yummy, diff...|  5.0|          243|[wow!, , yummy,, ...|[wow!, , yummy,, ...|\n",
      "|Cute interior and...|  4.0|          534|[cute, interior, ...|[cute, interior, ...|\n",
      "+--------------------+-----+-------------+--------------------+--------------------+\n",
      "only showing top 5 rows\n",
      "\n"
     ]
    }
   ],
   "source": [
    "from pyspark.ml.feature import Tokenizer, StopWordsRemover\n",
    "\n",
    "tokenizer = Tokenizer(inputCol=\"text\", outputCol=\"words\")\n",
    "tokenized_df = tokenizer.transform(review_df)\n",
    "\n",
    "remover = StopWordsRemover(inputCol=\"words\", outputCol=\"filtered_words\")\n",
    "filtered_df = remover.transform(tokenized_df)\n",
    "\n",
    "filtered_df.show(5)"
   ]
  },
  {
   "cell_type": "markdown",
   "id": "2a193011-b0c9-4945-8ce6-97e7bdc28d58",
   "metadata": {},
   "source": [
    "### Sentiment Polarity Scores"
   ]
  },
  {
   "cell_type": "code",
   "execution_count": 9,
   "id": "8629c1df-76d3-45d1-8813-f01f517e8dc6",
   "metadata": {},
   "outputs": [],
   "source": [
    "import nltk\n",
    "from nltk.sentiment import SentimentIntensityAnalyzer\n",
    "\n",
    "#initialize the Sentiment Intensity Analyzer\n",
    "sia = SentimentIntensityAnalyzer()\n",
    "\n",
    "#define a function to calculate sentiment scores\n",
    "def sentiment_scores(text):\n",
    "    scores = sia.polarity_scores(text)\n",
    "    return float(scores['compound'])"
   ]
  },
  {
   "cell_type": "code",
   "execution_count": 10,
   "id": "25f9c6ea-2990-4158-9a0d-fc773dcb7d51",
   "metadata": {},
   "outputs": [
    {
     "name": "stdout",
     "output_type": "stream",
     "text": [
      "+--------------------+-----+-------------+--------------------+--------------------+------------------+\n",
      "|                text|stars|review_length|               words|      filtered_words|sentiment_polarity|\n",
      "+--------------------+-----+-------------+--------------------+--------------------+------------------+\n",
      "|If you decide to ...|  3.0|          513|[if, you, decide,...|[decide, eat, her...|            0.8597|\n",
      "|I've taken a lot ...|  5.0|          829|[i've, taken, a, ...|[taken, lot, spin...|            0.9858|\n",
      "|Family diner. Had...|  3.0|          339|[family, diner., ...|[family, diner., ...|            0.9201|\n",
      "|Wow!  Yummy, diff...|  5.0|          243|[wow!, , yummy,, ...|[wow!, , yummy,, ...|            0.9588|\n",
      "|Cute interior and...|  4.0|          534|[cute, interior, ...|[cute, interior, ...|            0.9804|\n",
      "+--------------------+-----+-------------+--------------------+--------------------+------------------+\n",
      "only showing top 5 rows\n",
      "\n"
     ]
    }
   ],
   "source": [
    "from pyspark.sql.functions import udf, col\n",
    "from pyspark.sql.types import ArrayType, StringType, FloatType\n",
    "\n",
    "sentiment_udf = udf(sentiment_scores, FloatType())\n",
    "\n",
    "polarity_df = filtered_df.withColumn('sentiment_polarity', sentiment_udf(col('text')))\n",
    "polarity_df.show(5)"
   ]
  },
  {
   "cell_type": "markdown",
   "id": "ba85c091-cb02-4dbb-b08d-c0284296150b",
   "metadata": {},
   "source": [
    "### TF-IDF"
   ]
  },
  {
   "cell_type": "code",
   "execution_count": 11,
   "id": "1f0e118b-4bdf-4a6c-99b8-416959a8cc9e",
   "metadata": {},
   "outputs": [
    {
     "name": "stdout",
     "output_type": "stream",
     "text": [
      "+--------------------+-----+-------------+--------------------+--------------------+------------------+--------------------+--------------------+\n",
      "|                text|stars|review_length|               words|      filtered_words|sentiment_polarity|          hashing_tf|              TF_IDF|\n",
      "+--------------------+-----+-------------+--------------------+--------------------+------------------+--------------------+--------------------+\n",
      "|If you decide to ...|  3.0|          513|[if, you, decide,...|[decide, eat, her...|            0.8597|(262144,[12524,24...|(262144,[12524,24...|\n",
      "|I've taken a lot ...|  5.0|          829|[i've, taken, a, ...|[taken, lot, spin...|            0.9858|(262144,[18176,29...|(262144,[18176,29...|\n",
      "|Family diner. Had...|  3.0|          339|[family, diner., ...|[family, diner., ...|            0.9201|(262144,[578,1261...|(262144,[578,1261...|\n",
      "|Wow!  Yummy, diff...|  5.0|          243|[wow!, , yummy,, ...|[wow!, , yummy,, ...|            0.9588|(262144,[30899,45...|(262144,[30899,45...|\n",
      "|Cute interior and...|  4.0|          534|[cute, interior, ...|[cute, interior, ...|            0.9804|(262144,[1689,495...|(262144,[1689,495...|\n",
      "+--------------------+-----+-------------+--------------------+--------------------+------------------+--------------------+--------------------+\n",
      "only showing top 5 rows\n",
      "\n"
     ]
    }
   ],
   "source": [
    "from pyspark.ml.feature import HashingTF, IDF\n",
    "\n",
    "# Apply TF-IDF\n",
    "hashing_tf = HashingTF(inputCol=\"filtered_words\", outputCol=\"hashing_tf\")\n",
    "tf_df = hashing_tf.transform(polarity_df)\n",
    "idf = IDF(inputCol=\"hashing_tf\", outputCol=\"TF_IDF\")\n",
    "idf_model = idf.fit(tf_df)\n",
    "tfidf_df = idf_model.transform(tf_df)\n",
    "\n",
    "tfidf_df.show(5)"
   ]
  },
  {
   "cell_type": "markdown",
   "id": "dd7ecd44-68ae-45d9-b535-e8e8f1b75db9",
   "metadata": {},
   "source": [
    "## Prepare data for Modeling"
   ]
  },
  {
   "cell_type": "code",
   "execution_count": 12,
   "id": "9406844d-72e2-494d-8944-123bded53619",
   "metadata": {},
   "outputs": [],
   "source": [
    "from pyspark.ml.feature import VectorAssembler, StringIndexer\n",
    "from pyspark.ml import Pipeline"
   ]
  },
  {
   "cell_type": "code",
   "execution_count": 13,
   "id": "31bcb201-4fa0-4d6f-877a-ebe30d3fed80",
   "metadata": {},
   "outputs": [],
   "source": [
    "#Assembling features\n",
    "assembler = VectorAssembler(inputCols=['review_length','sentiment_polarity', 'TF_IDF'], outputCol='combined_features')\n",
    "final_df = assembler.transform(tfidf_df)"
   ]
  },
  {
   "cell_type": "markdown",
   "id": "ff4caa26-5828-433b-863f-11f3314b260f",
   "metadata": {},
   "source": [
    "## Logistic Regression Model"
   ]
  },
  {
   "cell_type": "code",
   "execution_count": 20,
   "id": "d8faa4ac-299d-450d-8335-c791efae7f74",
   "metadata": {},
   "outputs": [],
   "source": [
    "from pyspark.ml.feature import StringIndexer\n",
    "from pyspark.ml.classification import LogisticRegression\n",
    "from pyspark.ml.evaluation import MulticlassClassificationEvaluator"
   ]
  },
  {
   "cell_type": "code",
   "execution_count": 21,
   "id": "49bd0df0-b6ca-410c-9458-e391703bb773",
   "metadata": {},
   "outputs": [
    {
     "name": "stdout",
     "output_type": "stream",
     "text": [
      "+--------------------+-----+\n",
      "|   combined_features|stars|\n",
      "+--------------------+-----+\n",
      "|(262146,[0,1,1252...|  3.0|\n",
      "|(262146,[0,1,1817...|  5.0|\n",
      "|(262146,[0,1,580,...|  3.0|\n",
      "|(262146,[0,1,3090...|  5.0|\n",
      "|(262146,[0,1,1691...|  4.0|\n",
      "+--------------------+-----+\n",
      "only showing top 5 rows\n",
      "\n"
     ]
    }
   ],
   "source": [
    "#select features\n",
    "select_df = final_df.select('combined_features', 'stars')\n",
    "select_df.show(5)"
   ]
  },
  {
   "cell_type": "code",
   "execution_count": 22,
   "id": "0fa659c4-0433-4840-9729-10fc9643646f",
   "metadata": {},
   "outputs": [],
   "source": [
    "label_indexer = StringIndexer(inputCol=\"stars\", outputCol=\"label\")\n",
    "labeled_df = label_indexer.fit(select_df).transform(select_df)"
   ]
  },
  {
   "cell_type": "code",
   "execution_count": 23,
   "id": "52977b15-af34-458c-b565-cadf9f59e5d7",
   "metadata": {},
   "outputs": [],
   "source": [
    "data_df = labeled_df.select('combined_features', 'stars')"
   ]
  },
  {
   "cell_type": "code",
   "execution_count": 18,
   "id": "39c9d412-9a16-4adf-bb7d-37819e9db64e",
   "metadata": {},
   "outputs": [
    {
     "name": "stdout",
     "output_type": "stream",
     "text": [
      "Cross-validated Accuracy: 0.6194280031438975\n",
      "Best regParam:  0.01\n",
      "Best elasticNetParam:  0.3\n"
     ]
    }
   ],
   "source": [
    "from pyspark.ml.classification import LogisticRegression\n",
    "from pyspark.ml.evaluation import MulticlassClassificationEvaluator\n",
    "from pyspark.ml.feature import VectorAssembler\n",
    "from pyspark.ml.tuning import ParamGridBuilder, CrossValidator\n",
    "\n",
    "lr = LogisticRegression(featuresCol=\"combined_features\", labelCol=\"stars\")\n",
    "\n",
    "# Create the parameter grid\n",
    "paramGrid = (ParamGridBuilder()\n",
    "             .addGrid(lr.regParam, [0.01, 0.1, 1.0])\n",
    "             .addGrid(lr.elasticNetParam, [0.3, 0.7, 1.0])\n",
    "             .build())\n",
    "\n",
    "# Define the evaluator\n",
    "evaluator = MulticlassClassificationEvaluator(labelCol=\"stars\", predictionCol=\"prediction\", metricName=\"accuracy\")\n",
    "\n",
    "# Define the CrossValidator\n",
    "crossval = CrossValidator(estimator=lr,\n",
    "                          estimatorParamMaps=paramGrid,\n",
    "                          evaluator=evaluator,\n",
    "                          numFolds=5)  # Use 3+ in practice\n",
    "\n",
    "# Run cross-validation, and choose the best set of parameters.\n",
    "cvModel = crossval.fit(data_df)\n",
    "\n",
    "# Make predictions on the test data\n",
    "predictions = cvModel.transform(data_df)\n",
    "\n",
    "# Evaluate the model\n",
    "accuracy = evaluator.evaluate(predictions)\n",
    "print(f\"Cross-validated Accuracy: {accuracy}\")\n",
    "\n",
    "# Extract the best model\n",
    "bestModel = cvModel.bestModel\n",
    "\n",
    "# Print best hyperparameters\n",
    "print(\"Best regParam: \", bestModel._java_obj.getRegParam())\n",
    "print(\"Best elasticNetParam: \", bestModel._java_obj.getElasticNetParam())"
   ]
  },
  {
   "cell_type": "code",
   "execution_count": 24,
   "id": "519dab39-56dc-4657-b235-1e8d82776aae",
   "metadata": {},
   "outputs": [],
   "source": [
    "train_df, test_df = labeled_df.randomSplit([0.8, 0.2], seed=42)"
   ]
  },
  {
   "cell_type": "code",
   "execution_count": 25,
   "id": "28f9a08a-e3d8-4c86-ad67-65f603a4d63b",
   "metadata": {},
   "outputs": [],
   "source": [
    "complexities = [0.001, 0.01, 0.1, 1.0]\n",
    "train_accuracies = []\n",
    "test_accuracies = []\n",
    "for reg in complexities:\n",
    "    lr = LogisticRegression(featuresCol='combined_features', labelCol='label', maxIter=100, regParam=reg, elasticNetParam=0.3,\n",
    "                            family='multinomial', aggregationDepth = 2)\n",
    "    lr_model = lr.fit(train_df)\n",
    "    lr_train_pred = lr_model.transform(train_df)\n",
    "    lr_test_pred = lr_model.transform(test_df)\n",
    "    evaluator = MulticlassClassificationEvaluator(labelCol=\"label\", predictionCol=\"prediction\", metricName=\"accuracy\")\n",
    "    lr_train_accuracy = evaluator.evaluate(lr_train_pred)\n",
    "    train_accuracies.append(lr_train_accuracy)\n",
    "    \n",
    "    lr_test_accuracy = evaluator.evaluate(lr_test_pred)\n",
    "    test_accuracies.append(lr_test_accuracy)\n"
   ]
  },
  {
   "cell_type": "code",
   "execution_count": 26,
   "id": "42421774-8d66-4855-82d9-63305a4bcfdd",
   "metadata": {},
   "outputs": [
    {
     "data": {
      "text/plain": [
       "[0.9336696225420529, 0.6234428274983153, 0.509978581580159, 0.4444355479045312]"
      ]
     },
     "execution_count": 26,
     "metadata": {},
     "output_type": "execute_result"
    }
   ],
   "source": [
    "train_accuracies"
   ]
  },
  {
   "cell_type": "code",
   "execution_count": 27,
   "id": "c3506356-94a8-4a17-b382-37f2e982135d",
   "metadata": {},
   "outputs": [
    {
     "data": {
      "text/plain": [
       "[0.6041498466010011,\n",
       " 0.6121158297001992,\n",
       " 0.5095807094030895,\n",
       " 0.4452607782980785]"
      ]
     },
     "execution_count": 27,
     "metadata": {},
     "output_type": "execute_result"
    }
   ],
   "source": [
    "test_accuracies"
   ]
  },
  {
   "cell_type": "markdown",
   "id": "802046ed-c469-4312-81fa-a57eec157b96",
   "metadata": {},
   "source": [
    "### Overfitting/Underfitting Graph"
   ]
  },
  {
   "cell_type": "code",
   "execution_count": 34,
   "id": "c6749322-1588-444f-94a1-0cd4266f565d",
   "metadata": {},
   "outputs": [
    {
     "name": "stdout",
     "output_type": "stream",
     "text": [
      "[0.5555644520954688, 0.49002141841984104, 0.37655717250168474, 0.06633037745794712]\n",
      "[0.5547392217019216, 0.4904192905969105, 0.3878841702998008, 0.39585015339899887]\n"
     ]
    },
    {
     "data": {
      "image/png": "[encoded data removed]",
      "text/plain": [
       "<Figure size 640x480 with 1 Axes>"
      ]
     },
     "metadata": {},
     "output_type": "display_data"
    }
   ],
   "source": [
    "train_plot = [1-train_accuracies[i] for i in range(len(train_accuracies))]\n",
    "test_plot = [1-test_accuracies[i] for i in range(len(test_accuracies))]\n",
    "train_plot = train_plot[::-1]\n",
    "test_plot = test_plot[::-1]\n",
    "print(train_plot)\n",
    "print(test_plot)\n",
    "x = [1,2,3,4]\n",
    "import matplotlib.pyplot as plt\n",
    "plt.plot(x, train_plot, color='red', label='train_data')\n",
    "plt.plot(x, test_plot, color='green', label='test_data')\n",
    "\n",
    "plt.title('Fitting of Logistic Regression on  regParam')\n",
    "plt.xlabel('Model Complexity')\n",
    "plt.ylabel('Predictive Error')\n",
    "\n",
    "plt.show()"
   ]
  },
  {
   "cell_type": "markdown",
   "id": "c10cc693-fa77-4086-8799-f174f1d9a926",
   "metadata": {},
   "source": [
    "## SVM"
   ]
  },
  {
   "cell_type": "code",
   "execution_count": 38,
   "id": "6ff325bf-9d02-4356-9840-f9809a1a7947",
   "metadata": {},
   "outputs": [],
   "source": [
    "from pyspark.ml.feature import StringIndexer\n",
    "from pyspark.ml.classification import LinearSVC, OneVsRest\n",
    "from pyspark.ml.evaluation import MulticlassClassificationEvaluator"
   ]
  },
  {
   "cell_type": "code",
   "execution_count": 39,
   "id": "13265b5d-e028-4fd9-b04e-5a8a1f3f303c",
   "metadata": {},
   "outputs": [
    {
     "name": "stdout",
     "output_type": "stream",
     "text": [
      "+--------------------+-----+\n",
      "|   combined_features|stars|\n",
      "+--------------------+-----+\n",
      "|(262146,[0,1,1252...|  3.0|\n",
      "|(262146,[0,1,1817...|  5.0|\n",
      "|(262146,[0,1,580,...|  3.0|\n",
      "|(262146,[0,1,3090...|  5.0|\n",
      "|(262146,[0,1,1691...|  4.0|\n",
      "+--------------------+-----+\n",
      "only showing top 5 rows\n",
      "\n"
     ]
    }
   ],
   "source": [
    "#select features\n",
    "select_df = final_df.select('combined_features', 'stars')\n",
    "select_df.show(5)"
   ]
  },
  {
   "cell_type": "code",
   "execution_count": 40,
   "id": "96a2a0c9-d900-4232-895f-dda565876645",
   "metadata": {},
   "outputs": [
    {
     "name": "stdout",
     "output_type": "stream",
     "text": [
      "+--------------------+-----+-----+\n",
      "|   combined_features|stars|label|\n",
      "+--------------------+-----+-----+\n",
      "|(262146,[0,1,1252...|  3.0|  2.0|\n",
      "|(262146,[0,1,1817...|  5.0|  0.0|\n",
      "|(262146,[0,1,580,...|  3.0|  2.0|\n",
      "|(262146,[0,1,3090...|  5.0|  0.0|\n",
      "|(262146,[0,1,1691...|  4.0|  1.0|\n",
      "+--------------------+-----+-----+\n",
      "only showing top 5 rows\n",
      "\n"
     ]
    }
   ],
   "source": [
    "label_indexer = StringIndexer(inputCol=\"stars\", outputCol=\"label\")\n",
    "labeled_df = label_indexer.fit(select_df).transform(select_df)\n",
    "labeled_df.show(5)"
   ]
  },
  {
   "cell_type": "code",
   "execution_count": 41,
   "id": "42c1d4aa-d8cd-4970-8d66-ee368fcedec5",
   "metadata": {},
   "outputs": [],
   "source": [
    "train_df, test_df = labeled_df.randomSplit([0.8, 0.2], seed=42)"
   ]
  },
  {
   "cell_type": "code",
   "execution_count": 43,
   "id": "e4f3fcb1-62b8-4905-a85a-a3a802a98c51",
   "metadata": {},
   "outputs": [
    {
     "name": "stdout",
     "output_type": "stream",
     "text": [
      "0.001\n",
      "0.01\n",
      "0.1\n",
      "1.0\n"
     ]
    }
   ],
   "source": [
    "complexities = [0.001, 0.01, 0.1, 1.0]\n",
    "train_accuracies = []\n",
    "test_accuracies = []\n",
    "for reg in complexities:\n",
    "    svm = LinearSVC(featuresCol='combined_features', labelCol='label', maxIter=100, regParam=reg)\n",
    "\n",
    "    ovr = OneVsRest(classifier=svm, labelCol='label', featuresCol='combined_features')\n",
    "    ovr_model = ovr.fit(train_df)x\n",
    "    \n",
    "    svm_train_pred = ovr_model.transform(train_df)\n",
    "    svm_test_pred = ovr_model.transform(test_df)\n",
    "    \n",
    "    evaluator = MulticlassClassificationEvaluator(labelCol=\"label\", predictionCol=\"prediction\", metricName=\"accuracy\")\n",
    "    \n",
    "    svm_train_accuracy = evaluator.evaluate(svm_train_pred)\n",
    "    train_accuracies.append(svm_train_accuracy)\n",
    "    \n",
    "    svm_test_accuracy = evaluator.evaluate(svm_test_pred)\n",
    "    test_accuracies.append(svm_test_accuracy)"
   ]
  },
  {
   "cell_type": "code",
   "execution_count": 44,
   "id": "234d16a0-b344-4349-b9da-15d9daef3022",
   "metadata": {},
   "outputs": [
    {
     "data": {
      "text/plain": [
       "[0.9637755136083699, 0.9452929519386672, 0.907053399256694, 0.8089156674740277]"
      ]
     },
     "execution_count": 44,
     "metadata": {},
     "output_type": "execute_result"
    }
   ],
   "source": [
    "train_accuracies"
   ]
  },
  {
   "cell_type": "code",
   "execution_count": 45,
   "id": "4477b02f-3b06-4f6b-a437-21f7ef93e8ff",
   "metadata": {},
   "outputs": [
    {
     "data": {
      "text/plain": [
       "[0.5451046880887023,\n",
       " 0.5722590020991442,\n",
       " 0.5838042951719683,\n",
       " 0.5544431885462081]"
      ]
     },
     "execution_count": 45,
     "metadata": {},
     "output_type": "execute_result"
    }
   ],
   "source": [
    "test_accuracies"
   ]
  },
  {
   "cell_type": "markdown",
   "id": "6e93fd53-d1ab-479a-9454-a85716d00143",
   "metadata": {},
   "source": [
    "### Overfitting/Underfitting Graph"
   ]
  },
  {
   "cell_type": "code",
   "execution_count": 47,
   "id": "934177b9-2372-418b-a986-5fb7e6424ef3",
   "metadata": {},
   "outputs": [
    {
     "name": "stdout",
     "output_type": "stream",
     "text": [
      "[0.19108433252597234, 0.09294660074330596, 0.05470704806133275, 0.03622448639163012]\n",
      "[0.4455568114537919, 0.4161957048280317, 0.42774099790085585, 0.45489531191129773]\n"
     ]
    },
    {
     "data": {
      "image/png": "[encoded data removed]",
      "text/plain": [
       "<Figure size 640x480 with 1 Axes>"
      ]
     },
     "metadata": {},
     "output_type": "display_data"
    }
   ],
   "source": [
    "train_plot = [1-train_accuracies[i] for i in range(len(train_accuracies))]\n",
    "test_plot = [1-test_accuracies[i] for i in range(len(test_accuracies))]\n",
    "train_plot = train_plot[::-1]\n",
    "test_plot = test_plot[::-1]\n",
    "print(train_plot)\n",
    "print(test_plot)\n",
    "x = [1,2,3,4]\n",
    "import matplotlib.pyplot as plt\n",
    "plt.plot(x, train_plot, color='red', label='train_data')\n",
    "plt.plot(x, test_plot, color='green', label='test_data')\n",
    "\n",
    "plt.title('Fitting of SVM on  regParam')\n",
    "plt.xlabel('Model Complexity')\n",
    "plt.ylabel('Predictive Error')\n",
    "\n",
    "plt.show()"
   ]
  },
  {
   "cell_type": "code",
   "execution_count": null,
   "id": "a4cecc3b-69c6-4019-a0d7-dc2fa152fb64",
   "metadata": {},
   "outputs": [],
   "source": []
  }
 ],
 "metadata": {
  "kernelspec": {
   "display_name": "Python 3 (ipykernel)",
   "language": "python",
   "name": "python3"
  },
  "language_info": {
   "codemirror_mode": {
    "name": "ipython",
    "version": 3
   },
   "file_extension": ".py",
   "mimetype": "text/x-python",
   "name": "python",
   "nbconvert_exporter": "python",
   "pygments_lexer": "ipython3",
   "version": "3.11.6"
  }
 },
 "nbformat": 4,
 "nbformat_minor": 5
}
